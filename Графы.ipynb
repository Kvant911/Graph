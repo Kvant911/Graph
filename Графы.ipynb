{
 "cells": [
  {
   "cell_type": "code",
   "execution_count": 36,
   "id": "dff630c5",
   "metadata": {},
   "outputs": [],
   "source": [
    "import numpy as np\n",
    "import pandas as pd\n",
    "import torch\n",
    "import torch.nn as nn\n",
    "import torch.optim as optim\n",
    "from scipy.optimize import dual_annealing"
   ]
  },
  {
   "cell_type": "code",
   "execution_count": 32,
   "id": "e6ed2e54",
   "metadata": {},
   "outputs": [],
   "source": [
    "data = pd.read_excel(r'Тестовая_таблица_графы.xlsx', sheet_name='Граф')\n",
    "alpha_value = pd.read_excel(r'Тестовая_таблица_графы.xlsx', sheet_name='Объем')"
   ]
  },
  {
   "cell_type": "code",
   "execution_count": 33,
   "id": "38ad84ff",
   "metadata": {},
   "outputs": [],
   "source": [
    "data['Вес_связи'] = np.nan"
   ]
  },
  {
   "cell_type": "code",
   "execution_count": 34,
   "id": "dc44a46d",
   "metadata": {},
   "outputs": [],
   "source": [
    "data = data.merge(alpha_value, left_on='Родитель', right_on='Альфа')\n",
    "data = data.rename(columns={'Объем': 'Факт_Родитель'})\n",
    "data = data.drop(['Альфа'], axis=1)\n",
    "\n",
    "data = data.merge(alpha_value, left_on='Потомок', right_on='Альфа')\n",
    "data = data.rename(columns={'Объем': 'Факт_Потомок'})\n",
    "data = data.drop(['Альфа'], axis=1)"
   ]
  },
  {
   "cell_type": "code",
   "execution_count": 126,
   "id": "4db05139",
   "metadata": {},
   "outputs": [
    {
     "data": {
      "text/html": [
       "<div>\n",
       "<style scoped>\n",
       "    .dataframe tbody tr th:only-of-type {\n",
       "        vertical-align: middle;\n",
       "    }\n",
       "\n",
       "    .dataframe tbody tr th {\n",
       "        vertical-align: top;\n",
       "    }\n",
       "\n",
       "    .dataframe thead th {\n",
       "        text-align: right;\n",
       "    }\n",
       "</style>\n",
       "<table border=\"1\" class=\"dataframe\">\n",
       "  <thead>\n",
       "    <tr style=\"text-align: right;\">\n",
       "      <th></th>\n",
       "      <th>Колонка_1</th>\n",
       "      <th>Родитель</th>\n",
       "      <th>Потомок</th>\n",
       "      <th>Вес_связи</th>\n",
       "      <th>Факт_Родитель</th>\n",
       "      <th>Факт_Потомок</th>\n",
       "    </tr>\n",
       "  </thead>\n",
       "  <tbody>\n",
       "    <tr>\n",
       "      <th>0</th>\n",
       "      <td>Тест</td>\n",
       "      <td>Икс_1</td>\n",
       "      <td>Икс_2</td>\n",
       "      <td>0.477295</td>\n",
       "      <td>10000</td>\n",
       "      <td>5000</td>\n",
       "    </tr>\n",
       "    <tr>\n",
       "      <th>1</th>\n",
       "      <td>Тест</td>\n",
       "      <td>Икс_8</td>\n",
       "      <td>Икс_2</td>\n",
       "      <td>0.227051</td>\n",
       "      <td>1000</td>\n",
       "      <td>5000</td>\n",
       "    </tr>\n",
       "    <tr>\n",
       "      <th>2</th>\n",
       "      <td>Тест</td>\n",
       "      <td>Икс_1</td>\n",
       "      <td>Икс_3</td>\n",
       "      <td>0.500000</td>\n",
       "      <td>10000</td>\n",
       "      <td>5000</td>\n",
       "    </tr>\n",
       "    <tr>\n",
       "      <th>3</th>\n",
       "      <td>Тест</td>\n",
       "      <td>Икс_2</td>\n",
       "      <td>Икс_4</td>\n",
       "      <td>0.400000</td>\n",
       "      <td>5000</td>\n",
       "      <td>2000</td>\n",
       "    </tr>\n",
       "    <tr>\n",
       "      <th>4</th>\n",
       "      <td>Тест</td>\n",
       "      <td>Икс_2</td>\n",
       "      <td>Икс_5</td>\n",
       "      <td>0.600000</td>\n",
       "      <td>5000</td>\n",
       "      <td>3000</td>\n",
       "    </tr>\n",
       "    <tr>\n",
       "      <th>5</th>\n",
       "      <td>Тест</td>\n",
       "      <td>Икс_4</td>\n",
       "      <td>Икс_6</td>\n",
       "      <td>0.250000</td>\n",
       "      <td>2000</td>\n",
       "      <td>500</td>\n",
       "    </tr>\n",
       "    <tr>\n",
       "      <th>6</th>\n",
       "      <td>Тест</td>\n",
       "      <td>Икс_4</td>\n",
       "      <td>Икс_7</td>\n",
       "      <td>0.750000</td>\n",
       "      <td>2000</td>\n",
       "      <td>1500</td>\n",
       "    </tr>\n",
       "    <tr>\n",
       "      <th>7</th>\n",
       "      <td>Тест</td>\n",
       "      <td>Икс_5</td>\n",
       "      <td>Икс_8</td>\n",
       "      <td>0.333341</td>\n",
       "      <td>3000</td>\n",
       "      <td>1000</td>\n",
       "    </tr>\n",
       "    <tr>\n",
       "      <th>8</th>\n",
       "      <td>Тест</td>\n",
       "      <td>Икс_5</td>\n",
       "      <td>Икс_9</td>\n",
       "      <td>0.666667</td>\n",
       "      <td>3000</td>\n",
       "      <td>2000</td>\n",
       "    </tr>\n",
       "    <tr>\n",
       "      <th>9</th>\n",
       "      <td>Тест</td>\n",
       "      <td>Икс_8</td>\n",
       "      <td>Икс_10</td>\n",
       "      <td>0.200000</td>\n",
       "      <td>1000</td>\n",
       "      <td>200</td>\n",
       "    </tr>\n",
       "    <tr>\n",
       "      <th>10</th>\n",
       "      <td>Тест</td>\n",
       "      <td>Икс_8</td>\n",
       "      <td>Икс_11</td>\n",
       "      <td>0.606319</td>\n",
       "      <td>1000</td>\n",
       "      <td>800</td>\n",
       "    </tr>\n",
       "  </tbody>\n",
       "</table>\n",
       "</div>"
      ],
      "text/plain": [
       "   Колонка_1 Родитель Потомок  Вес_связи  Факт_Родитель  Факт_Потомок\n",
       "0       Тест    Икс_1   Икс_2   0.477295          10000          5000\n",
       "1       Тест    Икс_8   Икс_2   0.227051           1000          5000\n",
       "2       Тест    Икс_1   Икс_3   0.500000          10000          5000\n",
       "3       Тест    Икс_2   Икс_4   0.400000           5000          2000\n",
       "4       Тест    Икс_2   Икс_5   0.600000           5000          3000\n",
       "5       Тест    Икс_4   Икс_6   0.250000           2000           500\n",
       "6       Тест    Икс_4   Икс_7   0.750000           2000          1500\n",
       "7       Тест    Икс_5   Икс_8   0.333341           3000          1000\n",
       "8       Тест    Икс_5   Икс_9   0.666667           3000          2000\n",
       "9       Тест    Икс_8  Икс_10   0.200000           1000           200\n",
       "10      Тест    Икс_8  Икс_11   0.606319           1000           800"
      ]
     },
     "execution_count": 126,
     "metadata": {},
     "output_type": "execute_result"
    }
   ],
   "source": [
    "data"
   ]
  },
  {
   "cell_type": "code",
   "execution_count": 123,
   "id": "738764b8",
   "metadata": {},
   "outputs": [],
   "source": [
    "def func_minimize(weights):\n",
    "    data['Вес_связи'] = weights\n",
    "    '''\n",
    "    for parent in data['Родитель'].unique():\n",
    "        sum_weight = data[data['Родитель'] == parent]['Вес_связи'].sum()\n",
    "        if sum_weight > 1:\n",
    "            return 10000000000\n",
    "        elif sum_weight < 1:\n",
    "            return 10000000000\n",
    "    '''\n",
    "    \n",
    "    MSE_value = 0\n",
    "    for descendant in data['Потомок'].unique():\n",
    "        weights_descendant = data[data['Потомок'] == descendant]['Вес_связи'].values\n",
    "        fact_parent = data[data['Потомок'] == descendant]['Факт_Родитель'].values\n",
    "        fact_descendant = data[data['Потомок'] == descendant]['Факт_Потомок'].values\n",
    "        \n",
    "        var_1 = fact_parent * weights_descendant\n",
    "        var = fact_descendant - var_1.sum()\n",
    "        \n",
    "        MSE_value += var[0] ** 2   \n",
    "    return MSE_value"
   ]
  },
  {
   "cell_type": "code",
   "execution_count": 124,
   "id": "64c57d62",
   "metadata": {},
   "outputs": [],
   "source": [
    "lw = [0] * 11\n",
    "up = [1] * 11\n",
    "ret = dual_annealing(func_minimize, bounds=list(zip(lw, up)))"
   ]
  },
  {
   "cell_type": "code",
   "execution_count": 125,
   "id": "13a9580d",
   "metadata": {},
   "outputs": [
    {
     "data": {
      "text/plain": [
       "1.0042116821710939e-08"
      ]
     },
     "execution_count": 125,
     "metadata": {},
     "output_type": "execute_result"
    }
   ],
   "source": [
    "ret.fun"
   ]
  },
  {
   "cell_type": "code",
   "execution_count": null,
   "id": "82ea6a87",
   "metadata": {},
   "outputs": [],
   "source": []
  }
 ],
 "metadata": {
  "kernelspec": {
   "display_name": "Python 3 (ipykernel)",
   "language": "python",
   "name": "python3"
  },
  "language_info": {
   "codemirror_mode": {
    "name": "ipython",
    "version": 3
   },
   "file_extension": ".py",
   "mimetype": "text/x-python",
   "name": "python",
   "nbconvert_exporter": "python",
   "pygments_lexer": "ipython3",
   "version": "3.10.13"
  }
 },
 "nbformat": 4,
 "nbformat_minor": 5
}
