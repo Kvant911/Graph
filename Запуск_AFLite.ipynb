{
 "cells": [
  {
   "cell_type": "markdown",
   "metadata": {},
   "source": [
    "# Работа"
   ]
  },
  {
   "cell_type": "code",
   "execution_count": 1,
   "metadata": {},
   "outputs": [
    {
     "name": "stderr",
     "output_type": "stream",
     "text": [
      "[nltk_data] Downloading package stopwords to\n",
      "[nltk_data]     C:\\Users\\Квант\\AppData\\Roaming\\nltk_data...\n",
      "[nltk_data]   Package stopwords is already up-to-date!\n",
      "[nltk_data] Downloading package wordnet to\n",
      "[nltk_data]     C:\\Users\\Квант\\AppData\\Roaming\\nltk_data...\n",
      "[nltk_data]   Package wordnet is already up-to-date!\n"
     ]
    },
    {
     "ename": "ModuleNotFoundError",
     "evalue": "No module named 'AFLite'",
     "output_type": "error",
     "traceback": [
      "\u001b[1;31m---------------------------------------------------------------------------\u001b[0m",
      "\u001b[1;31mModuleNotFoundError\u001b[0m                       Traceback (most recent call last)",
      "Cell \u001b[1;32mIn[1], line 13\u001b[0m\n\u001b[0;32m      9\u001b[0m \u001b[38;5;28;01mfrom\u001b[39;00m \u001b[38;5;21;01msklearn\u001b[39;00m\u001b[38;5;21;01m.\u001b[39;00m\u001b[38;5;21;01mfeature_extraction\u001b[39;00m\u001b[38;5;21;01m.\u001b[39;00m\u001b[38;5;21;01mtext\u001b[39;00m \u001b[38;5;28;01mimport\u001b[39;00m TfidfVectorizer\n\u001b[0;32m     11\u001b[0m \u001b[38;5;28;01mimport\u001b[39;00m \u001b[38;5;21;01mre\u001b[39;00m\n\u001b[1;32m---> 13\u001b[0m \u001b[38;5;28;01mimport\u001b[39;00m \u001b[38;5;21;01mAFLite\u001b[39;00m\n",
      "\u001b[1;31mModuleNotFoundError\u001b[0m: No module named 'AFLite'"
     ]
    }
   ],
   "source": [
    "import pandas as pd\n",
    "import numpy as np\n",
    "from sklearn.model_selection import train_test_split\n",
    "import nltk\n",
    "from nltk.corpus import stopwords\n",
    "from nltk.stem import WordNetLemmatizer\n",
    "nltk.download('stopwords')\n",
    "nltk.download('wordnet')\n",
    "from sklearn.feature_extraction.text import TfidfVectorizer\n",
    "\n",
    "import re\n",
    "\n",
    "import AFLite"
   ]
  },
  {
   "cell_type": "code",
   "execution_count": null,
   "metadata": {},
   "outputs": [],
   "source": [
    "data = pd.read_csv(r'C:\\Users\\Квант\\Desktop\\train.csv')\n",
    "labels = data[['Computer Science', 'Physics', 'Mathematics', 'Statistics', 'Quantitative Biology', 'Quantitative Finance']]\n",
    "features = data['ABSTRACT'].values"
   ]
  },
  {
   "cell_type": "code",
   "execution_count": null,
   "metadata": {},
   "outputs": [],
   "source": [
    "def preproc_data(data):\n",
    "    ''' Функция обрабатывает текстовые данные.\n",
    "        Parametrs:\n",
    "\n",
    "        Return:\n",
    "    '''\n",
    "    # Удаляются пробелы.\n",
    "    corpus = [string.strip() for string in data]\n",
    "    # Удаление знаков препинания\n",
    "    corpus = [string.replace('\\n', ' ').replace(',', ' ').replace(':', ' ').replace('.', ' ') for string in corpus]\n",
    "    # Все буквы в нижний регистр.\n",
    "    corpus = [string.lower() for string in corpus]\n",
    "    # Токенизация текста\n",
    "    corpus = [nltk.word_tokenize(string) for string in corpus]\n",
    "    # Удаление стоп-слов\n",
    "    stop_words = set(stopwords.words('english'))\n",
    "    for ind, words in enumerate(corpus):\n",
    "        words = [word for word in words if word not in stop_words]\n",
    "        corpus[ind] = words\n",
    "    # Лемматизация или стемминг\n",
    "    lemmatizer = WordNetLemmatizer()\n",
    "    for ind, words in enumerate(corpus):\n",
    "        words = [lemmatizer.lemmatize(word) for word in words]\n",
    "        corpus[ind] = words\n",
    "\n",
    "    # Из слов снова собирается строка\n",
    "    for index, words in enumerate(corpus):\n",
    "        string = ''\n",
    "        for word in words:\n",
    "            string += word + ' '\n",
    "        corpus[index] = string\n",
    "\n",
    "    return corpus"
   ]
  },
  {
   "cell_type": "code",
   "execution_count": null,
   "metadata": {},
   "outputs": [],
   "source": [
    "features = preproc_data(features)\n",
    "vectorizer = TfidfVectorizer()\n",
    "features_v = vectorizer.fit_transform(features)\n",
    "features_v = pd.DataFrame(features_v.toarray(), columns=vectorizer.get_feature_names_out())"
   ]
  },
  {
   "cell_type": "markdown",
   "metadata": {},
   "source": [
    "# Инициализяция модели"
   ]
  },
  {
   "cell_type": "code",
   "execution_count": null,
   "metadata": {},
   "outputs": [],
   "source": []
  },
  {
   "cell_type": "markdown",
   "metadata": {},
   "source": [
    "# Фильтрация с помощью AFLite"
   ]
  },
  {
   "cell_type": "markdown",
   "metadata": {},
   "source": [
    "AFLite(model=, \n",
    "       task='clf', \n",
    "       metric='f1', \n",
    "       value_metric=0.9, \n",
    "       p_value=0.6, \n",
    "       features=features_v, \n",
    "       labels=labels, \n",
    "       validation_data=None, \n",
    "       test_data=None, \n",
    "       upper_bound=19000, \n",
    "       n_partition=20, \n",
    "       train_size=0.7, \n",
    "       predictability_treshold=0.8, \n",
    "       slice_num=200)"
   ]
  }
 ],
 "metadata": {
  "kernelspec": {
   "display_name": "base",
   "language": "python",
   "name": "python3"
  },
  "language_info": {
   "codemirror_mode": {
    "name": "ipython",
    "version": 3
   },
   "file_extension": ".py",
   "mimetype": "text/x-python",
   "name": "python",
   "nbconvert_exporter": "python",
   "pygments_lexer": "ipython3",
   "version": "3.10.13"
  }
 },
 "nbformat": 4,
 "nbformat_minor": 2
}
